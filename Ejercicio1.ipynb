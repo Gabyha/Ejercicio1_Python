{
 "cells": [
  {
   "cell_type": "code",
   "execution_count": 39,
   "metadata": {},
   "outputs": [],
   "source": [
    "Productos = {1:'Pantalones', 2:'Camisas', 3:'Corbatas', 4:'Casacas'}\n",
    "Precios = {1: 200.00, 2: 120.00, 3: 50.00, 4: 350.00}\n",
    "Stock = {1:50, 2:45, 3:30, 4:15}"
   ]
  },
  {
   "cell_type": "code",
   "execution_count": null,
   "metadata": {},
   "outputs": [],
   "source": [
    "def mostrar_productos():\n",
    "    print(\"========================================\")\n",
    "    print(\"Lista de Productos:\")\n",
    "    print(\"========================================\")\n",
    "    print(f\"{'ID':<5}{'Producto':<15}{'Precio':<10}{'Stock':<10}\") \n",
    "    for key in Productos:\n",
    "        print(f\"{key:<5}{Productos[key]:<15}{Precios[key]:<10.2f}{Stock[key]:<10}\")\n",
    "    print(\"========================================\")"
   ]
  },
  {
   "cell_type": "code",
   "execution_count": null,
   "metadata": {},
   "outputs": [],
   "source": [
    "def agregar_producto():\n",
    "    nuevo_id = max(Productos.keys()) + 1\n",
    "    nombre = input(\"Ingrese el nombre del producto: \")\n",
    "    precio = float(input(\"Ingrese el precio del producto: \"))\n",
    "    cantidad = int(input(\"Ingrese la cantidad en stock: \"))\n",
    "    \n",
    "    Productos[nuevo_id] = nombre\n",
    "    Precios[nuevo_id] = precio\n",
    "    Stock[nuevo_id] = cantidad\n",
    "    print(\"Producto agregado exitosamente.\")"
   ]
  },
  {
   "cell_type": "code",
   "execution_count": null,
   "metadata": {},
   "outputs": [],
   "source": [
    "def eliminar_producto():\n",
    "    mostrar_productos()\n",
    "    prod_id = int(input(\"Ingrese el ID del producto a eliminar: \"))\n",
    "    if prod_id in Productos:\n",
    "        del Productos[prod_id]\n",
    "        del Precios[prod_id]\n",
    "        del Stock[prod_id]\n",
    "        print(\"Producto eliminado exitosamente.\")\n",
    "    else:\n",
    "        print(\"ID no encontrado.\")"
   ]
  },
  {
   "cell_type": "code",
   "execution_count": null,
   "metadata": {},
   "outputs": [],
   "source": [
    "def actualizar_producto():\n",
    "    mostrar_productos()\n",
    "    prod_id = int(input(\"Ingrese el ID del producto a actualizar: \"))\n",
    "    if prod_id in Productos:\n",
    "        print(\"[1] Actualizar nombre\")\n",
    "        print(\"[2] Actualizar precio\")\n",
    "        print(\"[3] Actualizar stock\")\n",
    "        opcion = int(input(\"Elija una opción: \"))\n",
    "        \n",
    "        if opcion == 1:\n",
    "            nuevo_nombre = input(\"Ingrese el nuevo nombre: \")\n",
    "            Productos[prod_id] = nuevo_nombre\n",
    "        elif opcion == 2:\n",
    "            nuevo_precio = float(input(\"Ingrese el nuevo precio: \"))\n",
    "            Precios[prod_id] = nuevo_precio\n",
    "        elif opcion == 3:\n",
    "            nuevo_stock = int(input(\"Ingrese la nueva cantidad en stock: \"))\n",
    "            Stock[prod_id] = nuevo_stock\n",
    "        else:\n",
    "            print(\"Opción inválida.\")\n",
    "        print(\"Producto actualizado exitosamente.\")\n",
    "    else:\n",
    "        print(\"ID no encontrado.\")"
   ]
  },
  {
   "cell_type": "code",
   "execution_count": 47,
   "metadata": {},
   "outputs": [
    {
     "name": "stdout",
     "output_type": "stream",
     "text": [
      "========================================\n",
      "Lista de Productos:\n",
      "========================================\n",
      "ID   Producto       Precio    Stock     \n",
      "1    Pantalones     200.00    50        \n",
      "2    Camisas        120.00    45        \n",
      "3    Corbatas       50.00     30        \n",
      "4    Casacas        350.00    15        \n",
      "========================================\n",
      "[1] Agregar, [2] Eliminar, [3] Actualizar, [4] Salir\n",
      "Saliendo del programa. ¡Hasta luego!\n"
     ]
    }
   ],
   "source": [
    "# Programa principal\n",
    "while True:\n",
    "    mostrar_productos()\n",
    "    print(\"[1] Agregar, [2] Eliminar, [3] Actualizar, [4] Salir\")\n",
    "    try:\n",
    "        opcion = int(input(\"Elija opción: \"))\n",
    "        \n",
    "        if opcion == 1:\n",
    "            agregar_producto()\n",
    "        elif opcion == 2:\n",
    "            eliminar_producto()\n",
    "        elif opcion == 3:\n",
    "            actualizar_producto()\n",
    "        elif opcion == 4:\n",
    "            print(\"Saliendo del programa. ¡Hasta luego!\")\n",
    "            break\n",
    "        else:\n",
    "            print(\"Opción inválida. Intente nuevamente.\")\n",
    "    except ValueError:\n",
    "        print(\"Entrada no válida. Por favor, ingrese un número.\")"
   ]
  }
 ],
 "metadata": {
  "kernelspec": {
   "display_name": "Python 3",
   "language": "python",
   "name": "python3"
  },
  "language_info": {
   "codemirror_mode": {
    "name": "ipython",
    "version": 3
   },
   "file_extension": ".py",
   "mimetype": "text/x-python",
   "name": "python",
   "nbconvert_exporter": "python",
   "pygments_lexer": "ipython3",
   "version": "3.10.4"
  }
 },
 "nbformat": 4,
 "nbformat_minor": 2
}
